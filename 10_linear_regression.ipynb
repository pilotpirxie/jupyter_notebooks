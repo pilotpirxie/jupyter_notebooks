{
 "cells": [
  {
   "cell_type": "markdown",
   "id": "8c0a430a",
   "metadata": {},
   "source": [
    "### Supervised learning\n",
    "Supervised learning - algorithms are trained using labeled examples with known output\n",
    "e.g. spam vs legit emails\n",
    "positive vs negative movie review\n",
    "\n",
    "The network receives a set of inputs along with the corresponding correct outputs\n",
    "then \"learns\" by comparing its actual output with correct outputs to find errors.\n",
    "It then modifies the model accordingly.\n",
    "\n",
    "### Process:\n",
    "Data acquisition -> Data cleaning -> Test data & Model training and building -> Model testing -> Deploy model\n",
    "\n",
    "### Data is often split into 3 sets:\n",
    "Training Data - to train model parameters\n",
    "Validation Data - to determine what model heperparameters to adjust\n",
    "Test Data - to get final performance metric\n",
    "\n",
    "This means, after we see the results on the **final test** we don't get to back and adjust any model parameters.\n",
    "\n",
    "### Classification metrics:\n",
    "* accuracy\n",
    "* recall\n",
    "* precision\n",
    "* f1-score\n",
    "\n",
    "Typical model can be correct in its prediction or incorrect."
   ]
  },
  {
   "cell_type": "code",
   "execution_count": null,
   "id": "bfa8780c",
   "metadata": {},
   "outputs": [],
   "source": []
  }
 ],
 "metadata": {
  "kernelspec": {
   "display_name": "Python 3 (ipykernel)",
   "language": "python",
   "name": "python3"
  },
  "language_info": {
   "codemirror_mode": {
    "name": "ipython",
    "version": 3
   },
   "file_extension": ".py",
   "mimetype": "text/x-python",
   "name": "python",
   "nbconvert_exporter": "python",
   "pygments_lexer": "ipython3",
   "version": "3.10.6"
  }
 },
 "nbformat": 4,
 "nbformat_minor": 5
}
