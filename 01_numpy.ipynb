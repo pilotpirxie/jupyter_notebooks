{
 "cells": [
  {
   "cell_type": "code",
   "execution_count": 1,
   "id": "3f5ac4ed-6bee-488b-8ce4-5479205acc8e",
   "metadata": {
    "tags": []
   },
   "outputs": [],
   "source": [
    "# NumPy - linear algebra library for Python "
   ]
  },
  {
   "cell_type": "code",
   "execution_count": 2,
   "id": "64adcbea-973b-4546-b3ed-3cda8e68a19d",
   "metadata": {},
   "outputs": [],
   "source": [
    "list_e = [1, 2, 3]"
   ]
  },
  {
   "cell_type": "code",
   "execution_count": 3,
   "id": "02e71ae3-3674-4ccf-836b-46a1e48af019",
   "metadata": {
    "tags": []
   },
   "outputs": [
    {
     "data": {
      "text/plain": "[1, 2, 3]"
     },
     "execution_count": 3,
     "metadata": {},
     "output_type": "execute_result"
    }
   ],
   "source": [
    "list_e"
   ]
  },
  {
   "cell_type": "code",
   "execution_count": 4,
   "id": "532153eb-878a-4ea2-b255-488d263de141",
   "metadata": {
    "tags": []
   },
   "outputs": [],
   "source": [
    "import numpy as np"
   ]
  },
  {
   "cell_type": "code",
   "execution_count": 5,
   "id": "2cbfbd0c-5676-4e73-8676-c6a4239aada2",
   "metadata": {
    "tags": []
   },
   "outputs": [],
   "source": [
    "arr = np.array(list_e)"
   ]
  },
  {
   "cell_type": "code",
   "execution_count": 6,
   "id": "b245ea74-d2fd-4b1e-a143-57b33ff9ca70",
   "metadata": {
    "tags": []
   },
   "outputs": [
    {
     "data": {
      "text/plain": "array([1, 2, 3])"
     },
     "execution_count": 6,
     "metadata": {},
     "output_type": "execute_result"
    }
   ],
   "source": [
    "arr"
   ]
  },
  {
   "cell_type": "code",
   "execution_count": 7,
   "id": "a7d5e372-3ba9-4c6d-b887-1f785fe87c8c",
   "metadata": {
    "tags": []
   },
   "outputs": [],
   "source": [
    "mx = np.array([[1,2,3], [2,1,3], [3,2,1]])"
   ]
  },
  {
   "cell_type": "code",
   "execution_count": 8,
   "id": "aa2ee6c2-3e54-49d2-b39f-38a205f425c3",
   "metadata": {
    "tags": []
   },
   "outputs": [
    {
     "data": {
      "text/plain": "array([[1, 2, 3],\n       [2, 1, 3],\n       [3, 2, 1]])"
     },
     "execution_count": 8,
     "metadata": {},
     "output_type": "execute_result"
    }
   ],
   "source": [
    "mx"
   ]
  },
  {
   "cell_type": "code",
   "execution_count": 9,
   "id": "eb9b5cb9-33d3-43e5-a628-56569e2eb650",
   "metadata": {
    "tags": []
   },
   "outputs": [
    {
     "data": {
      "text/plain": "array([0, 2, 4, 6, 8])"
     },
     "execution_count": 9,
     "metadata": {},
     "output_type": "execute_result"
    }
   ],
   "source": [
    "np.arange(0, 10, 2)"
   ]
  },
  {
   "cell_type": "code",
   "execution_count": 10,
   "id": "5756bdc8-2c89-4461-9599-565255b08f21",
   "metadata": {
    "tags": []
   },
   "outputs": [
    {
     "data": {
      "text/plain": "array([0., 0., 0.])"
     },
     "execution_count": 10,
     "metadata": {},
     "output_type": "execute_result"
    }
   ],
   "source": [
    "np.zeros(3)"
   ]
  },
  {
   "cell_type": "code",
   "execution_count": 11,
   "id": "b72c9864-ef43-48c1-bfba-f55bc22c6a0b",
   "metadata": {
    "tags": []
   },
   "outputs": [
    {
     "data": {
      "text/plain": "array([[0., 0.],\n       [0., 0.],\n       [0., 0.],\n       [0., 0.],\n       [0., 0.]])"
     },
     "execution_count": 11,
     "metadata": {},
     "output_type": "execute_result"
    }
   ],
   "source": [
    "np.zeros((5, 2))"
   ]
  },
  {
   "cell_type": "code",
   "execution_count": 12,
   "id": "3ed85a2e-ef51-4e7a-bfa3-899559a75692",
   "metadata": {
    "tags": []
   },
   "outputs": [
    {
     "data": {
      "text/plain": "array([[1., 1.]])"
     },
     "execution_count": 12,
     "metadata": {},
     "output_type": "execute_result"
    }
   ],
   "source": [
    "np.ones((1,2))"
   ]
  },
  {
   "cell_type": "code",
   "execution_count": 13,
   "id": "14ea83c6-dee9-4395-afac-1850e240bdc0",
   "metadata": {
    "tags": []
   },
   "outputs": [
    {
     "data": {
      "text/plain": "array([0.        , 0.05050505, 0.1010101 , 0.15151515, 0.2020202 ,\n       0.25252525, 0.3030303 , 0.35353535, 0.4040404 , 0.45454545,\n       0.50505051, 0.55555556, 0.60606061, 0.65656566, 0.70707071,\n       0.75757576, 0.80808081, 0.85858586, 0.90909091, 0.95959596,\n       1.01010101, 1.06060606, 1.11111111, 1.16161616, 1.21212121,\n       1.26262626, 1.31313131, 1.36363636, 1.41414141, 1.46464646,\n       1.51515152, 1.56565657, 1.61616162, 1.66666667, 1.71717172,\n       1.76767677, 1.81818182, 1.86868687, 1.91919192, 1.96969697,\n       2.02020202, 2.07070707, 2.12121212, 2.17171717, 2.22222222,\n       2.27272727, 2.32323232, 2.37373737, 2.42424242, 2.47474747,\n       2.52525253, 2.57575758, 2.62626263, 2.67676768, 2.72727273,\n       2.77777778, 2.82828283, 2.87878788, 2.92929293, 2.97979798,\n       3.03030303, 3.08080808, 3.13131313, 3.18181818, 3.23232323,\n       3.28282828, 3.33333333, 3.38383838, 3.43434343, 3.48484848,\n       3.53535354, 3.58585859, 3.63636364, 3.68686869, 3.73737374,\n       3.78787879, 3.83838384, 3.88888889, 3.93939394, 3.98989899,\n       4.04040404, 4.09090909, 4.14141414, 4.19191919, 4.24242424,\n       4.29292929, 4.34343434, 4.39393939, 4.44444444, 4.49494949,\n       4.54545455, 4.5959596 , 4.64646465, 4.6969697 , 4.74747475,\n       4.7979798 , 4.84848485, 4.8989899 , 4.94949495, 5.        ])"
     },
     "execution_count": 13,
     "metadata": {},
     "output_type": "execute_result"
    }
   ],
   "source": [
    "np.linspace(0, 5, 100)"
   ]
  },
  {
   "cell_type": "code",
   "execution_count": 14,
   "id": "094ba09b-2f41-4b80-a5ad-0ae422d72540",
   "metadata": {
    "tags": []
   },
   "outputs": [
    {
     "data": {
      "text/plain": "array([[1., 0., 0., 0., 0., 0., 0., 0., 0., 0.],\n       [0., 1., 0., 0., 0., 0., 0., 0., 0., 0.],\n       [0., 0., 1., 0., 0., 0., 0., 0., 0., 0.],\n       [0., 0., 0., 1., 0., 0., 0., 0., 0., 0.],\n       [0., 0., 0., 0., 1., 0., 0., 0., 0., 0.],\n       [0., 0., 0., 0., 0., 1., 0., 0., 0., 0.],\n       [0., 0., 0., 0., 0., 0., 1., 0., 0., 0.],\n       [0., 0., 0., 0., 0., 0., 0., 1., 0., 0.],\n       [0., 0., 0., 0., 0., 0., 0., 0., 1., 0.],\n       [0., 0., 0., 0., 0., 0., 0., 0., 0., 1.]])"
     },
     "execution_count": 14,
     "metadata": {},
     "output_type": "execute_result"
    }
   ],
   "source": [
    "np.eye(10)"
   ]
  },
  {
   "cell_type": "code",
   "execution_count": 15,
   "id": "0f383965-2b28-4218-9123-24613a40d2c8",
   "metadata": {
    "tags": []
   },
   "outputs": [
    {
     "data": {
      "text/plain": "array([0.35535665, 0.37293952, 0.80608985, 0.74950946, 0.64703223])"
     },
     "execution_count": 15,
     "metadata": {},
     "output_type": "execute_result"
    }
   ],
   "source": [
    "np.random.rand(5)"
   ]
  },
  {
   "cell_type": "code",
   "execution_count": 16,
   "id": "b2aa72fd-d6b4-45b6-911f-c3e2dd160f4a",
   "metadata": {
    "tags": []
   },
   "outputs": [
    {
     "data": {
      "text/plain": "array([[0.74238533, 0.83011889, 0.22029212, 0.83183845, 0.74161457],\n       [0.9588174 , 0.82464524, 0.37779083, 0.97272251, 0.53048566],\n       [0.04589236, 0.2954985 , 0.03805578, 0.53452859, 0.73318033],\n       [0.11278748, 0.80614514, 0.82544127, 0.09563553, 0.12013102],\n       [0.38090265, 0.93509539, 0.16795145, 0.35065582, 0.60395175]])"
     },
     "execution_count": 16,
     "metadata": {},
     "output_type": "execute_result"
    }
   ],
   "source": [
    "np.random.rand(5, 5)"
   ]
  },
  {
   "cell_type": "code",
   "execution_count": 17,
   "id": "d71b48af-077e-410e-95a7-9e6051b74842",
   "metadata": {
    "tags": []
   },
   "outputs": [
    {
     "data": {
      "text/plain": "array([[-1.28255594,  1.42821133, -0.64880521],\n       [ 1.17007595,  0.5572192 , -0.11332321],\n       [-1.85121864,  0.75995728, -0.65872748],\n       [-0.50673561,  0.41522645,  1.11797022],\n       [ 1.5637539 ,  0.63891181, -0.30590681],\n       [-1.66706101,  1.65105235,  0.44406464],\n       [ 0.43093295, -1.76547525, -0.07350606],\n       [ 0.05204305, -1.64282096, -1.70050938],\n       [ 0.52582313,  0.11973905,  0.21302755],\n       [-0.0528956 , -0.35185286,  0.39860708]])"
     },
     "execution_count": 17,
     "metadata": {},
     "output_type": "execute_result"
    }
   ],
   "source": [
    "np.random.randn(10, 3)"
   ]
  },
  {
   "cell_type": "code",
   "execution_count": 18,
   "id": "6d1afbab-8ad7-4248-ba5f-d8afb97b9397",
   "metadata": {
    "tags": []
   },
   "outputs": [
    {
     "data": {
      "text/plain": "array([72, 36, 65, 21, 99, 48, 84, 39, 48, 60])"
     },
     "execution_count": 18,
     "metadata": {},
     "output_type": "execute_result"
    }
   ],
   "source": [
    "np.random.randint(1, 100, 10)"
   ]
  },
  {
   "cell_type": "code",
   "execution_count": 19,
   "id": "c508b2f6-7aec-4c67-9758-1b41592f8061",
   "metadata": {
    "tags": []
   },
   "outputs": [],
   "source": [
    "rarr = np.random.randint(1, 100, 10)"
   ]
  },
  {
   "cell_type": "code",
   "execution_count": 20,
   "id": "5c700432-9571-4e53-90b2-7f6de5a8abad",
   "metadata": {
    "tags": []
   },
   "outputs": [
    {
     "data": {
      "text/plain": "array([36, 96, 46, 63, 87, 64, 33, 77, 44, 72])"
     },
     "execution_count": 20,
     "metadata": {},
     "output_type": "execute_result"
    }
   ],
   "source": [
    "rarr"
   ]
  },
  {
   "cell_type": "code",
   "execution_count": 21,
   "id": "f1acd164-ccda-44b3-99a1-b86e60fabfa6",
   "metadata": {
    "tags": []
   },
   "outputs": [
    {
     "data": {
      "text/plain": "array([[36, 96],\n       [46, 63],\n       [87, 64],\n       [33, 77],\n       [44, 72]])"
     },
     "execution_count": 21,
     "metadata": {},
     "output_type": "execute_result"
    }
   ],
   "source": [
    "rarr.reshape(5,2)"
   ]
  },
  {
   "cell_type": "code",
   "execution_count": 22,
   "id": "59e43b13-60c9-456c-92a9-4e6e7324d41e",
   "metadata": {
    "tags": []
   },
   "outputs": [
    {
     "data": {
      "text/plain": "96"
     },
     "execution_count": 22,
     "metadata": {},
     "output_type": "execute_result"
    }
   ],
   "source": [
    "rarr.max()"
   ]
  },
  {
   "cell_type": "code",
   "execution_count": 23,
   "id": "e3ed4c45-5b1d-4e8d-bc6f-e4eb102f9cfd",
   "metadata": {
    "tags": []
   },
   "outputs": [
    {
     "data": {
      "text/plain": "36"
     },
     "execution_count": 23,
     "metadata": {},
     "output_type": "execute_result"
    }
   ],
   "source": [
    "rarr[0].max()"
   ]
  },
  {
   "cell_type": "code",
   "execution_count": 24,
   "id": "1e70fff7-f2cf-4ac6-a80d-a66767ab5d30",
   "metadata": {
    "tags": []
   },
   "outputs": [
    {
     "data": {
      "text/plain": "1"
     },
     "execution_count": 24,
     "metadata": {},
     "output_type": "execute_result"
    }
   ],
   "source": [
    "rarr.argmax()"
   ]
  },
  {
   "cell_type": "code",
   "execution_count": 25,
   "id": "b8285f1d-2f4b-4e52-b196-9d7a32f0a92f",
   "metadata": {
    "tags": []
   },
   "outputs": [
    {
     "data": {
      "text/plain": "(10,)"
     },
     "execution_count": 25,
     "metadata": {},
     "output_type": "execute_result"
    }
   ],
   "source": [
    "rarr.shape"
   ]
  },
  {
   "cell_type": "code",
   "execution_count": 26,
   "id": "e6e4f99f-7b11-4046-9ff3-f910ac3c3228",
   "metadata": {
    "tags": []
   },
   "outputs": [
    {
     "data": {
      "text/plain": "array([36, 96, 46, 63, 87, 64, 33, 77, 44, 72])"
     },
     "execution_count": 26,
     "metadata": {},
     "output_type": "execute_result"
    }
   ],
   "source": [
    "rarr"
   ]
  },
  {
   "cell_type": "code",
   "execution_count": 27,
   "id": "58007917-87f8-42fa-ac0d-a100af671dcd",
   "metadata": {
    "tags": []
   },
   "outputs": [
    {
     "data": {
      "text/plain": "dtype('int64')"
     },
     "execution_count": 27,
     "metadata": {},
     "output_type": "execute_result"
    }
   ],
   "source": [
    "rarr.dtype"
   ]
  },
  {
   "cell_type": "code",
   "execution_count": 28,
   "id": "b4c961b9-6300-4ee8-b5ff-597616969f3e",
   "metadata": {
    "tags": []
   },
   "outputs": [],
   "source": [
    "arr = np.arange(0, 11)"
   ]
  },
  {
   "cell_type": "code",
   "execution_count": 29,
   "id": "4001e09f-3c7b-421f-8792-b88887722786",
   "metadata": {
    "tags": []
   },
   "outputs": [
    {
     "data": {
      "text/plain": "array([ 0,  1,  2,  3,  4,  5,  6,  7,  8,  9, 10])"
     },
     "execution_count": 29,
     "metadata": {},
     "output_type": "execute_result"
    }
   ],
   "source": [
    "arr"
   ]
  },
  {
   "cell_type": "code",
   "execution_count": 30,
   "id": "5a5546e4-dd71-4579-ab66-c5612e74bb1d",
   "metadata": {
    "tags": []
   },
   "outputs": [
    {
     "data": {
      "text/plain": "3"
     },
     "execution_count": 30,
     "metadata": {},
     "output_type": "execute_result"
    }
   ],
   "source": [
    "arr[3]"
   ]
  },
  {
   "cell_type": "code",
   "execution_count": 31,
   "id": "8355a78d-3e71-4614-ade9-994f844e9205",
   "metadata": {
    "tags": []
   },
   "outputs": [
    {
     "data": {
      "text/plain": "array([0, 1, 2, 3, 4])"
     },
     "execution_count": 31,
     "metadata": {},
     "output_type": "execute_result"
    }
   ],
   "source": [
    "arr[:5]"
   ]
  },
  {
   "cell_type": "code",
   "execution_count": 32,
   "id": "728f9ef4-a8d2-47f3-94e1-6fc1dbadd1fe",
   "metadata": {
    "tags": []
   },
   "outputs": [
    {
     "data": {
      "text/plain": "array([ 1,  2,  3,  4,  5,  6,  7,  8,  9, 10])"
     },
     "execution_count": 32,
     "metadata": {},
     "output_type": "execute_result"
    }
   ],
   "source": [
    "arr[1:]"
   ]
  },
  {
   "cell_type": "code",
   "execution_count": 33,
   "id": "ec8edacb-a343-42ed-91f6-10c31d183c8a",
   "metadata": {
    "tags": []
   },
   "outputs": [],
   "source": [
    "arr = 100"
   ]
  },
  {
   "cell_type": "code",
   "execution_count": 34,
   "id": "18a6eb59-1d29-4e08-a4f2-a7f204b8bfe5",
   "metadata": {
    "tags": []
   },
   "outputs": [
    {
     "data": {
      "text/plain": "100"
     },
     "execution_count": 34,
     "metadata": {},
     "output_type": "execute_result"
    }
   ],
   "source": [
    "arr"
   ]
  },
  {
   "cell_type": "code",
   "execution_count": 35,
   "id": "4f2484a1-7861-4088-95d4-0a756b2e7187",
   "metadata": {
    "tags": []
   },
   "outputs": [],
   "source": [
    "arr = np.arange(0, 11)"
   ]
  },
  {
   "cell_type": "code",
   "execution_count": 36,
   "id": "87ac77d3-70d0-488f-97f7-e1376422925d",
   "metadata": {
    "tags": []
   },
   "outputs": [],
   "source": [
    "arr[:] = 100"
   ]
  },
  {
   "cell_type": "code",
   "execution_count": 37,
   "id": "e17fdcb5-94f5-4471-b46c-bd8b9c5d7fe8",
   "metadata": {
    "tags": []
   },
   "outputs": [
    {
     "data": {
      "text/plain": "array([100, 100, 100, 100, 100, 100, 100, 100, 100, 100, 100])"
     },
     "execution_count": 37,
     "metadata": {},
     "output_type": "execute_result"
    }
   ],
   "source": [
    "arr"
   ]
  },
  {
   "cell_type": "code",
   "execution_count": 38,
   "id": "f1910856-6525-492b-9b8e-69e53cabb590",
   "metadata": {
    "tags": []
   },
   "outputs": [],
   "source": [
    "arr = np.arange(0, 11)"
   ]
  },
  {
   "cell_type": "code",
   "execution_count": 39,
   "id": "97bf1a5e-9d57-498f-b133-df15e1272649",
   "metadata": {
    "tags": []
   },
   "outputs": [
    {
     "data": {
      "text/plain": "array([ 0,  1,  2,  3,  4,  5,  6,  7,  8,  9, 10])"
     },
     "execution_count": 39,
     "metadata": {},
     "output_type": "execute_result"
    }
   ],
   "source": [
    "arr"
   ]
  },
  {
   "cell_type": "code",
   "execution_count": 40,
   "id": "636fcd90-ef87-4008-a0d1-42c829be3fd8",
   "metadata": {
    "tags": []
   },
   "outputs": [],
   "source": [
    "x = arr"
   ]
  },
  {
   "cell_type": "code",
   "execution_count": 41,
   "id": "c3580b20-d682-44b1-b588-570cfc0ae084",
   "metadata": {
    "tags": []
   },
   "outputs": [
    {
     "data": {
      "text/plain": "array([ 0,  1,  2,  3,  4,  5,  6,  7,  8,  9, 10])"
     },
     "execution_count": 41,
     "metadata": {},
     "output_type": "execute_result"
    }
   ],
   "source": [
    "x"
   ]
  },
  {
   "cell_type": "code",
   "execution_count": 42,
   "id": "a17aceda-0725-439e-85ca-7a21e126fe28",
   "metadata": {
    "tags": []
   },
   "outputs": [
    {
     "data": {
      "text/plain": "array([ 0,  1,  2,  3,  4,  5,  6,  7,  8,  9, 10])"
     },
     "execution_count": 42,
     "metadata": {},
     "output_type": "execute_result"
    }
   ],
   "source": [
    "arr"
   ]
  },
  {
   "cell_type": "code",
   "execution_count": 43,
   "id": "d74949d4-d2c5-445b-8781-a387feba2847",
   "metadata": {
    "tags": []
   },
   "outputs": [],
   "source": [
    "x[:2] = 100"
   ]
  },
  {
   "cell_type": "code",
   "execution_count": 44,
   "id": "80f59aae-9618-48f5-abed-96b3d3e0b413",
   "metadata": {
    "tags": []
   },
   "outputs": [
    {
     "data": {
      "text/plain": "array([100, 100,   2,   3,   4,   5,   6,   7,   8,   9,  10])"
     },
     "execution_count": 44,
     "metadata": {},
     "output_type": "execute_result"
    }
   ],
   "source": [
    "x"
   ]
  },
  {
   "cell_type": "code",
   "execution_count": 45,
   "id": "fcf16b98-b1c4-43c3-9617-cfb883db1d07",
   "metadata": {
    "tags": []
   },
   "outputs": [
    {
     "data": {
      "text/plain": "array([100, 100,   2,   3,   4,   5,   6,   7,   8,   9,  10])"
     },
     "execution_count": 45,
     "metadata": {},
     "output_type": "execute_result"
    }
   ],
   "source": [
    "arr"
   ]
  },
  {
   "cell_type": "code",
   "execution_count": 46,
   "id": "673008c9-f8f9-4526-8f25-de433cbc65c4",
   "metadata": {
    "tags": []
   },
   "outputs": [],
   "source": [
    "arr2d = np.array([[5, 10, 15], [20, 25, 30], [35, 40, 45]])"
   ]
  },
  {
   "cell_type": "code",
   "execution_count": 47,
   "id": "5fb1b33e-8a03-4094-bd9f-9554fc18dbda",
   "metadata": {
    "tags": []
   },
   "outputs": [
    {
     "data": {
      "text/plain": "array([[ 5, 10, 15],\n       [20, 25, 30],\n       [35, 40, 45]])"
     },
     "execution_count": 47,
     "metadata": {},
     "output_type": "execute_result"
    }
   ],
   "source": [
    "arr2d"
   ]
  },
  {
   "cell_type": "code",
   "execution_count": 48,
   "id": "9592400d-d792-4e9f-9b03-765c87cbcbca",
   "metadata": {
    "tags": []
   },
   "outputs": [
    {
     "data": {
      "text/plain": "5"
     },
     "execution_count": 48,
     "metadata": {},
     "output_type": "execute_result"
    }
   ],
   "source": [
    "arr2d[0, 0]"
   ]
  },
  {
   "cell_type": "code",
   "execution_count": 49,
   "id": "59090013-0e70-4a79-99c7-d0af0750fb59",
   "metadata": {
    "tags": []
   },
   "outputs": [
    {
     "data": {
      "text/plain": "array([35, 40, 45])"
     },
     "execution_count": 49,
     "metadata": {},
     "output_type": "execute_result"
    }
   ],
   "source": [
    "arr2d[2]"
   ]
  },
  {
   "cell_type": "code",
   "execution_count": 50,
   "id": "f1211b01-195b-4b1f-a7f0-563c4cddc95e",
   "metadata": {
    "tags": []
   },
   "outputs": [
    {
     "data": {
      "text/plain": "5"
     },
     "execution_count": 50,
     "metadata": {},
     "output_type": "execute_result"
    }
   ],
   "source": [
    "arr2d[0][0]"
   ]
  },
  {
   "cell_type": "code",
   "execution_count": 51,
   "id": "9e52be91-7125-45b2-a1f7-275b4aad739e",
   "metadata": {
    "tags": []
   },
   "outputs": [],
   "source": [
    "arr2d[0, 0] = 100"
   ]
  },
  {
   "cell_type": "code",
   "execution_count": 52,
   "id": "94fa0f29-c171-4d6b-a9df-4a76e1c8a89f",
   "metadata": {
    "tags": []
   },
   "outputs": [
    {
     "data": {
      "text/plain": "array([[100,  10,  15],\n       [ 20,  25,  30],\n       [ 35,  40,  45]])"
     },
     "execution_count": 52,
     "metadata": {},
     "output_type": "execute_result"
    }
   ],
   "source": [
    "arr2d"
   ]
  },
  {
   "cell_type": "code",
   "execution_count": 53,
   "id": "2d9b0cf3-5bc1-4813-a6d8-cb3af2b2e75f",
   "metadata": {
    "tags": []
   },
   "outputs": [
    {
     "data": {
      "text/plain": "array([[100,  10,  15],\n       [ 20,  25,  30],\n       [ 35,  40,  45]])"
     },
     "execution_count": 53,
     "metadata": {},
     "output_type": "execute_result"
    }
   ],
   "source": [
    "arr2d[:,:]"
   ]
  },
  {
   "cell_type": "code",
   "execution_count": 54,
   "id": "8f82a761-a586-4b0d-b06b-f66b3f1ca349",
   "metadata": {
    "tags": []
   },
   "outputs": [
    {
     "data": {
      "text/plain": "array([[100,  10],\n       [ 20,  25]])"
     },
     "execution_count": 54,
     "metadata": {},
     "output_type": "execute_result"
    }
   ],
   "source": [
    "arr2d[:2,:2]"
   ]
  },
  {
   "cell_type": "code",
   "execution_count": 55,
   "id": "0d931021-3fd7-4fe1-8452-7a579410dca6",
   "metadata": {
    "tags": []
   },
   "outputs": [
    {
     "data": {
      "text/plain": "array([[10, 15],\n       [25, 30]])"
     },
     "execution_count": 55,
     "metadata": {},
     "output_type": "execute_result"
    }
   ],
   "source": [
    "arr2d[:2,1:]"
   ]
  },
  {
   "cell_type": "code",
   "execution_count": 56,
   "id": "a68866cc-4e4a-412f-a9fe-57f79ec63f73",
   "metadata": {
    "tags": []
   },
   "outputs": [
    {
     "data": {
      "text/plain": "array([[25, 30],\n       [40, 45]])"
     },
     "execution_count": 56,
     "metadata": {},
     "output_type": "execute_result"
    }
   ],
   "source": [
    "arr2d[1:,1:]"
   ]
  },
  {
   "cell_type": "code",
   "execution_count": 57,
   "id": "6282823c-4171-4566-a7bf-be81b6da52df",
   "metadata": {
    "tags": []
   },
   "outputs": [
    {
     "data": {
      "text/plain": "array([[[100,  10,  15],\n        [ 20,  25,  30],\n        [ 35,  40,  45]]])"
     },
     "execution_count": 57,
     "metadata": {},
     "output_type": "execute_result"
    }
   ],
   "source": [
    "arr2d[True]"
   ]
  },
  {
   "cell_type": "code",
   "execution_count": 58,
   "id": "bdc38257-0374-418a-a179-241c0c1011d5",
   "metadata": {
    "tags": []
   },
   "outputs": [
    {
     "data": {
      "text/plain": "array([100,  15,  20,  25,  30,  35,  40,  45])"
     },
     "execution_count": 58,
     "metadata": {},
     "output_type": "execute_result"
    }
   ],
   "source": [
    "arr2d[arr2d > 10]"
   ]
  },
  {
   "cell_type": "code",
   "execution_count": 59,
   "id": "eeb4409a-6f84-452f-94bd-79e73faae18d",
   "metadata": {
    "tags": []
   },
   "outputs": [],
   "source": [
    "arr2d = np.arange(50).reshape(5, 10)"
   ]
  },
  {
   "cell_type": "code",
   "execution_count": 60,
   "id": "35b52d48-586c-48d5-ae26-c166a7cf2253",
   "metadata": {
    "tags": []
   },
   "outputs": [
    {
     "data": {
      "text/plain": "array([[ 0,  1,  2,  3,  4,  5,  6,  7,  8,  9],\n       [10, 11, 12, 13, 14, 15, 16, 17, 18, 19],\n       [20, 21, 22, 23, 24, 25, 26, 27, 28, 29],\n       [30, 31, 32, 33, 34, 35, 36, 37, 38, 39],\n       [40, 41, 42, 43, 44, 45, 46, 47, 48, 49]])"
     },
     "execution_count": 60,
     "metadata": {},
     "output_type": "execute_result"
    }
   ],
   "source": [
    "arr2d"
   ]
  },
  {
   "cell_type": "code",
   "execution_count": 61,
   "id": "a56314ae-8820-4051-b709-bd4b9a3d6412",
   "metadata": {
    "tags": []
   },
   "outputs": [
    {
     "data": {
      "text/plain": "array([[13, 14],\n       [23, 24]])"
     },
     "execution_count": 61,
     "metadata": {},
     "output_type": "execute_result"
    }
   ],
   "source": [
    "arr2d[1:3,3:5]"
   ]
  },
  {
   "cell_type": "code",
   "execution_count": 62,
   "id": "156b8296-5983-497a-8f87-16f60ebb89dc",
   "metadata": {
    "tags": []
   },
   "outputs": [],
   "source": [
    "arr = np.arange(0, 11)"
   ]
  },
  {
   "cell_type": "code",
   "execution_count": 63,
   "id": "0d7e5bcf-ac39-4205-bf89-2ee8e5eb14d1",
   "metadata": {
    "tags": []
   },
   "outputs": [
    {
     "data": {
      "text/plain": "array([ 0,  1,  2,  3,  4,  5,  6,  7,  8,  9, 10])"
     },
     "execution_count": 63,
     "metadata": {},
     "output_type": "execute_result"
    }
   ],
   "source": [
    "arr"
   ]
  },
  {
   "cell_type": "code",
   "execution_count": 64,
   "id": "f073f1ab-57fc-4ffb-bd61-0baf445ac1d0",
   "metadata": {
    "tags": []
   },
   "outputs": [
    {
     "data": {
      "text/plain": "array([ 0,  2,  4,  6,  8, 10, 12, 14, 16, 18, 20])"
     },
     "execution_count": 64,
     "metadata": {},
     "output_type": "execute_result"
    }
   ],
   "source": [
    "arr + arr"
   ]
  },
  {
   "cell_type": "code",
   "execution_count": 65,
   "id": "d3a2ed63-71f3-45e2-a448-a159d340dc56",
   "metadata": {
    "tags": []
   },
   "outputs": [],
   "source": [
    "# scalar - single number"
   ]
  },
  {
   "cell_type": "code",
   "execution_count": 66,
   "id": "1e420f5b-e891-45c4-8181-f63b680841b8",
   "metadata": {
    "tags": []
   },
   "outputs": [
    {
     "data": {
      "text/plain": "array([ 2,  3,  4,  5,  6,  7,  8,  9, 10, 11, 12])"
     },
     "execution_count": 66,
     "metadata": {},
     "output_type": "execute_result"
    }
   ],
   "source": [
    "arr + 2"
   ]
  },
  {
   "cell_type": "code",
   "execution_count": 67,
   "id": "9ee0b752-fe5a-487f-a07a-c261dde6de4a",
   "metadata": {
    "tags": []
   },
   "outputs": [
    {
     "data": {
      "text/plain": "array([ 0,  3,  6,  9, 12, 15, 18, 21, 24, 27, 30])"
     },
     "execution_count": 67,
     "metadata": {},
     "output_type": "execute_result"
    }
   ],
   "source": [
    "arr * 3"
   ]
  },
  {
   "cell_type": "code",
   "execution_count": 68,
   "id": "4e7fb3a5-3faf-4625-99b4-9eb8115c8631",
   "metadata": {
    "tags": []
   },
   "outputs": [
    {
     "data": {
      "text/plain": "array([ 0,  1,  2,  3,  4,  5,  6,  7,  8,  9, 10])"
     },
     "execution_count": 68,
     "metadata": {},
     "output_type": "execute_result"
    }
   ],
   "source": [
    "arr"
   ]
  },
  {
   "cell_type": "code",
   "execution_count": 69,
   "id": "43270e59-1765-4625-8ea8-5a451f99b1a7",
   "metadata": {
    "tags": []
   },
   "outputs": [
    {
     "data": {
      "text/plain": "array([   0,    1,    8,   27,   64,  125,  216,  343,  512,  729, 1000])"
     },
     "execution_count": 69,
     "metadata": {},
     "output_type": "execute_result"
    }
   ],
   "source": [
    "arr ** 3"
   ]
  },
  {
   "cell_type": "code",
   "execution_count": 70,
   "id": "a441f6e8-7930-4e18-a7ad-a8410eee66f9",
   "metadata": {
    "tags": []
   },
   "outputs": [
    {
     "data": {
      "text/plain": "array([0.        , 1.        , 1.41421356, 1.73205081, 2.        ,\n       2.23606798, 2.44948974, 2.64575131, 2.82842712, 3.        ,\n       3.16227766])"
     },
     "execution_count": 70,
     "metadata": {},
     "output_type": "execute_result"
    }
   ],
   "source": [
    "np.sqrt(arr)"
   ]
  },
  {
   "cell_type": "code",
   "execution_count": 71,
   "id": "90b980a4-80a6-46f2-ae00-da6f9c69f29d",
   "metadata": {
    "tags": []
   },
   "outputs": [
    {
     "data": {
      "text/plain": "array([1.00000000e+00, 2.71828183e+00, 7.38905610e+00, 2.00855369e+01,\n       5.45981500e+01, 1.48413159e+02, 4.03428793e+02, 1.09663316e+03,\n       2.98095799e+03, 8.10308393e+03, 2.20264658e+04])"
     },
     "execution_count": 71,
     "metadata": {},
     "output_type": "execute_result"
    }
   ],
   "source": [
    "np.exp(arr)"
   ]
  },
  {
   "cell_type": "code",
   "execution_count": 72,
   "id": "06e37d02-8c7f-44a1-8be2-9bcd2dff2326",
   "metadata": {
    "tags": []
   },
   "outputs": [
    {
     "data": {
      "text/plain": "array([ 0.        ,  0.84147098,  0.90929743,  0.14112001, -0.7568025 ,\n       -0.95892427, -0.2794155 ,  0.6569866 ,  0.98935825,  0.41211849,\n       -0.54402111])"
     },
     "execution_count": 72,
     "metadata": {},
     "output_type": "execute_result"
    }
   ],
   "source": [
    "np.sin(arr)"
   ]
  },
  {
   "cell_type": "code",
   "execution_count": 73,
   "id": "6b96361b-f31f-4a1f-af27-74ed2ee083b3",
   "metadata": {
    "tags": []
   },
   "outputs": [
    {
     "data": {
      "text/plain": "array([ 0.        ,  1.55740772, -2.18503986, -0.14254654,  1.15782128,\n       -3.38051501, -0.29100619,  0.87144798, -6.79971146, -0.45231566,\n        0.64836083])"
     },
     "execution_count": 73,
     "metadata": {},
     "output_type": "execute_result"
    }
   ],
   "source": [
    "np.tan(arr)"
   ]
  },
  {
   "cell_type": "code",
   "execution_count": 73,
   "id": "f719fa16-5d7b-4ff1-a488-61a18025e1ba",
   "metadata": {},
   "outputs": [],
   "source": []
  }
 ],
 "metadata": {
  "kernelspec": {
   "display_name": "Python 3 (ipykernel)",
   "language": "python",
   "name": "python3"
  },
  "language_info": {
   "codemirror_mode": {
    "name": "ipython",
    "version": 3
   },
   "file_extension": ".py",
   "mimetype": "text/x-python",
   "name": "python",
   "nbconvert_exporter": "python",
   "pygments_lexer": "ipython3",
   "version": "3.10.6"
  }
 },
 "nbformat": 4,
 "nbformat_minor": 5
}
