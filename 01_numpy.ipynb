{
 "cells": [
  {
   "cell_type": "code",
   "execution_count": 2,
   "id": "3f5ac4ed-6bee-488b-8ce4-5479205acc8e",
   "metadata": {
    "tags": []
   },
   "outputs": [],
   "source": [
    "# NumPy - linear algebra library for Python "
   ]
  },
  {
   "cell_type": "code",
   "execution_count": 3,
   "id": "64adcbea-973b-4546-b3ed-3cda8e68a19d",
   "metadata": {},
   "outputs": [],
   "source": [
    "list_e = [1, 2, 3]"
   ]
  },
  {
   "cell_type": "code",
   "execution_count": 4,
   "id": "02e71ae3-3674-4ccf-836b-46a1e48af019",
   "metadata": {
    "tags": []
   },
   "outputs": [],
   "source": [
    "list_e"
   ]
  },
  {
   "cell_type": "code",
   "execution_count": null,
   "id": "532153eb-878a-4ea2-b255-488d263de141",
   "metadata": {
    "tags": [],
    "pycharm": {
     "is_executing": true
    }
   },
   "outputs": [],
   "source": [
    "import numpy as np"
   ]
  },
  {
   "cell_type": "code",
   "execution_count": null,
   "id": "2cbfbd0c-5676-4e73-8676-c6a4239aada2",
   "metadata": {
    "tags": [],
    "pycharm": {
     "is_executing": true
    }
   },
   "outputs": [],
   "source": [
    "arr = np.array(list_e)"
   ]
  },
  {
   "cell_type": "code",
   "execution_count": null,
   "id": "b245ea74-d2fd-4b1e-a143-57b33ff9ca70",
   "metadata": {
    "tags": [],
    "pycharm": {
     "is_executing": true
    }
   },
   "outputs": [
    {
     "data": {
      "text/plain": "array([1, 2, 3])"
     },
     "execution_count": 7,
     "metadata": {},
     "output_type": "execute_result"
    }
   ],
   "source": [
    "arr"
   ]
  },
  {
   "cell_type": "code",
   "execution_count": null,
   "id": "a7d5e372-3ba9-4c6d-b887-1f785fe87c8c",
   "metadata": {
    "tags": [],
    "pycharm": {
     "is_executing": true
    }
   },
   "outputs": [],
   "source": [
    "mx = np.array([[1,2,3], [2,1,3], [3,2,1]])"
   ]
  },
  {
   "cell_type": "code",
   "execution_count": null,
   "id": "aa2ee6c2-3e54-49d2-b39f-38a205f425c3",
   "metadata": {
    "tags": [],
    "pycharm": {
     "is_executing": true
    }
   },
   "outputs": [
    {
     "data": {
      "text/plain": "array([[1, 2, 3],\n       [2, 1, 3],\n       [3, 2, 1]])"
     },
     "execution_count": 9,
     "metadata": {},
     "output_type": "execute_result"
    }
   ],
   "source": [
    "mx"
   ]
  },
  {
   "cell_type": "code",
   "execution_count": null,
   "id": "eb9b5cb9-33d3-43e5-a628-56569e2eb650",
   "metadata": {
    "tags": [],
    "pycharm": {
     "is_executing": true
    }
   },
   "outputs": [
    {
     "data": {
      "text/plain": "array([0, 2, 4, 6, 8])"
     },
     "execution_count": 10,
     "metadata": {},
     "output_type": "execute_result"
    }
   ],
   "source": [
    "np.arange(0, 10, 2)"
   ]
  },
  {
   "cell_type": "code",
   "execution_count": null,
   "id": "5756bdc8-2c89-4461-9599-565255b08f21",
   "metadata": {
    "tags": [],
    "pycharm": {
     "is_executing": true
    }
   },
   "outputs": [
    {
     "data": {
      "text/plain": "array([0., 0., 0.])"
     },
     "execution_count": 11,
     "metadata": {},
     "output_type": "execute_result"
    }
   ],
   "source": [
    "np.zeros(3)"
   ]
  },
  {
   "cell_type": "code",
   "execution_count": null,
   "id": "b72c9864-ef43-48c1-bfba-f55bc22c6a0b",
   "metadata": {
    "tags": [],
    "pycharm": {
     "is_executing": true
    }
   },
   "outputs": [],
   "source": [
    "np.zeros((5, 2))"
   ]
  },
  {
   "cell_type": "code",
   "execution_count": null,
   "id": "3ed85a2e-ef51-4e7a-bfa3-899559a75692",
   "metadata": {
    "tags": [],
    "pycharm": {
     "is_executing": true
    }
   },
   "outputs": [],
   "source": [
    "np.ones((1,2))"
   ]
  },
  {
   "cell_type": "code",
   "execution_count": null,
   "id": "14ea83c6-dee9-4395-afac-1850e240bdc0",
   "metadata": {
    "tags": [],
    "pycharm": {
     "is_executing": true
    }
   },
   "outputs": [],
   "source": [
    "np.linspace(0, 5, 100)"
   ]
  },
  {
   "cell_type": "code",
   "execution_count": null,
   "id": "094ba09b-2f41-4b80-a5ad-0ae422d72540",
   "metadata": {
    "tags": [],
    "pycharm": {
     "is_executing": true
    }
   },
   "outputs": [],
   "source": [
    "np.eye(10)"
   ]
  },
  {
   "cell_type": "code",
   "execution_count": null,
   "id": "0f383965-2b28-4218-9123-24613a40d2c8",
   "metadata": {
    "tags": [],
    "pycharm": {
     "is_executing": true
    }
   },
   "outputs": [],
   "source": [
    "np.random.rand(5)"
   ]
  },
  {
   "cell_type": "code",
   "execution_count": null,
   "id": "b2aa72fd-d6b4-45b6-911f-c3e2dd160f4a",
   "metadata": {
    "tags": [],
    "pycharm": {
     "is_executing": true
    }
   },
   "outputs": [],
   "source": [
    "np.random.rand(5, 5)"
   ]
  },
  {
   "cell_type": "code",
   "execution_count": null,
   "id": "d71b48af-077e-410e-95a7-9e6051b74842",
   "metadata": {
    "tags": [],
    "pycharm": {
     "is_executing": true
    }
   },
   "outputs": [],
   "source": [
    "np.random.randn(10, 3)"
   ]
  },
  {
   "cell_type": "code",
   "execution_count": null,
   "id": "6d1afbab-8ad7-4248-ba5f-d8afb97b9397",
   "metadata": {
    "tags": [],
    "pycharm": {
     "is_executing": true
    }
   },
   "outputs": [],
   "source": [
    "np.random.randint(1, 100, 10)"
   ]
  },
  {
   "cell_type": "code",
   "execution_count": null,
   "id": "c508b2f6-7aec-4c67-9758-1b41592f8061",
   "metadata": {
    "tags": [],
    "pycharm": {
     "is_executing": true
    }
   },
   "outputs": [],
   "source": [
    "rarr = np.random.randint(1, 100, 10)"
   ]
  },
  {
   "cell_type": "code",
   "execution_count": null,
   "id": "5c700432-9571-4e53-90b2-7f6de5a8abad",
   "metadata": {
    "tags": [],
    "pycharm": {
     "is_executing": true
    }
   },
   "outputs": [],
   "source": [
    "rarr"
   ]
  },
  {
   "cell_type": "code",
   "execution_count": null,
   "id": "f1acd164-ccda-44b3-99a1-b86e60fabfa6",
   "metadata": {
    "tags": [],
    "pycharm": {
     "is_executing": true
    }
   },
   "outputs": [],
   "source": [
    "rarr.reshape(5,2)"
   ]
  },
  {
   "cell_type": "code",
   "execution_count": null,
   "id": "59e43b13-60c9-456c-92a9-4e6e7324d41e",
   "metadata": {
    "tags": [],
    "pycharm": {
     "is_executing": true
    }
   },
   "outputs": [],
   "source": [
    "rarr.max()"
   ]
  },
  {
   "cell_type": "code",
   "execution_count": null,
   "id": "e3ed4c45-5b1d-4e8d-bc6f-e4eb102f9cfd",
   "metadata": {
    "tags": [],
    "pycharm": {
     "is_executing": true
    }
   },
   "outputs": [],
   "source": [
    "rarr[0].max()"
   ]
  },
  {
   "cell_type": "code",
   "execution_count": null,
   "id": "1e70fff7-f2cf-4ac6-a80d-a66767ab5d30",
   "metadata": {
    "tags": [],
    "pycharm": {
     "is_executing": true
    }
   },
   "outputs": [],
   "source": [
    "rarr.argmax()"
   ]
  },
  {
   "cell_type": "code",
   "execution_count": null,
   "id": "b8285f1d-2f4b-4e52-b196-9d7a32f0a92f",
   "metadata": {
    "tags": [],
    "pycharm": {
     "is_executing": true
    }
   },
   "outputs": [],
   "source": [
    "rarr.shape"
   ]
  },
  {
   "cell_type": "code",
   "execution_count": null,
   "id": "e6e4f99f-7b11-4046-9ff3-f910ac3c3228",
   "metadata": {
    "tags": [],
    "pycharm": {
     "is_executing": true
    }
   },
   "outputs": [],
   "source": [
    "rarr"
   ]
  },
  {
   "cell_type": "code",
   "execution_count": null,
   "id": "58007917-87f8-42fa-ac0d-a100af671dcd",
   "metadata": {
    "tags": [],
    "pycharm": {
     "is_executing": true
    }
   },
   "outputs": [],
   "source": [
    "rarr.dtype"
   ]
  },
  {
   "cell_type": "code",
   "execution_count": null,
   "id": "b4c961b9-6300-4ee8-b5ff-597616969f3e",
   "metadata": {
    "tags": [],
    "pycharm": {
     "is_executing": true
    }
   },
   "outputs": [],
   "source": [
    "arr = np.arange(0, 11)"
   ]
  },
  {
   "cell_type": "code",
   "execution_count": null,
   "id": "4001e09f-3c7b-421f-8792-b88887722786",
   "metadata": {
    "tags": [],
    "pycharm": {
     "is_executing": true
    }
   },
   "outputs": [],
   "source": [
    "arr"
   ]
  },
  {
   "cell_type": "code",
   "execution_count": null,
   "id": "5a5546e4-dd71-4579-ab66-c5612e74bb1d",
   "metadata": {
    "tags": [],
    "pycharm": {
     "is_executing": true
    }
   },
   "outputs": [],
   "source": [
    "arr[3]"
   ]
  },
  {
   "cell_type": "code",
   "execution_count": null,
   "id": "8355a78d-3e71-4614-ade9-994f844e9205",
   "metadata": {
    "tags": [],
    "pycharm": {
     "is_executing": true
    }
   },
   "outputs": [],
   "source": [
    "arr[:5]"
   ]
  },
  {
   "cell_type": "code",
   "execution_count": null,
   "id": "728f9ef4-a8d2-47f3-94e1-6fc1dbadd1fe",
   "metadata": {
    "tags": [],
    "pycharm": {
     "is_executing": true
    }
   },
   "outputs": [],
   "source": [
    "arr[1:]"
   ]
  },
  {
   "cell_type": "code",
   "execution_count": null,
   "id": "ec8edacb-a343-42ed-91f6-10c31d183c8a",
   "metadata": {
    "tags": [],
    "pycharm": {
     "is_executing": true
    }
   },
   "outputs": [],
   "source": [
    "arr = 100"
   ]
  },
  {
   "cell_type": "code",
   "execution_count": null,
   "id": "18a6eb59-1d29-4e08-a4f2-a7f204b8bfe5",
   "metadata": {
    "tags": [],
    "pycharm": {
     "is_executing": true
    }
   },
   "outputs": [],
   "source": [
    "arr"
   ]
  },
  {
   "cell_type": "code",
   "execution_count": null,
   "id": "4f2484a1-7861-4088-95d4-0a756b2e7187",
   "metadata": {
    "tags": [],
    "pycharm": {
     "is_executing": true
    }
   },
   "outputs": [],
   "source": [
    "arr = np.arange(0, 11)"
   ]
  },
  {
   "cell_type": "code",
   "execution_count": null,
   "id": "87ac77d3-70d0-488f-97f7-e1376422925d",
   "metadata": {
    "tags": [],
    "pycharm": {
     "is_executing": true
    }
   },
   "outputs": [],
   "source": [
    "arr[:] = 100"
   ]
  },
  {
   "cell_type": "code",
   "execution_count": null,
   "id": "e17fdcb5-94f5-4471-b46c-bd8b9c5d7fe8",
   "metadata": {
    "tags": [],
    "pycharm": {
     "is_executing": true
    }
   },
   "outputs": [],
   "source": [
    "arr"
   ]
  },
  {
   "cell_type": "code",
   "execution_count": null,
   "id": "f1910856-6525-492b-9b8e-69e53cabb590",
   "metadata": {
    "tags": [],
    "pycharm": {
     "is_executing": true
    }
   },
   "outputs": [],
   "source": [
    "arr = np.arange(0, 11)"
   ]
  },
  {
   "cell_type": "code",
   "execution_count": null,
   "id": "97bf1a5e-9d57-498f-b133-df15e1272649",
   "metadata": {
    "tags": [],
    "pycharm": {
     "is_executing": true
    }
   },
   "outputs": [],
   "source": [
    "arr"
   ]
  },
  {
   "cell_type": "code",
   "execution_count": null,
   "id": "636fcd90-ef87-4008-a0d1-42c829be3fd8",
   "metadata": {
    "tags": [],
    "pycharm": {
     "is_executing": true
    }
   },
   "outputs": [],
   "source": [
    "x = arr"
   ]
  },
  {
   "cell_type": "code",
   "execution_count": null,
   "id": "c3580b20-d682-44b1-b588-570cfc0ae084",
   "metadata": {
    "tags": [],
    "pycharm": {
     "is_executing": true
    }
   },
   "outputs": [],
   "source": [
    "x"
   ]
  },
  {
   "cell_type": "code",
   "execution_count": null,
   "id": "a17aceda-0725-439e-85ca-7a21e126fe28",
   "metadata": {
    "tags": [],
    "pycharm": {
     "is_executing": true
    }
   },
   "outputs": [],
   "source": [
    "arr"
   ]
  },
  {
   "cell_type": "code",
   "execution_count": null,
   "id": "d74949d4-d2c5-445b-8781-a387feba2847",
   "metadata": {
    "tags": [],
    "pycharm": {
     "is_executing": true
    }
   },
   "outputs": [],
   "source": [
    "x[:2] = 100"
   ]
  },
  {
   "cell_type": "code",
   "execution_count": null,
   "id": "80f59aae-9618-48f5-abed-96b3d3e0b413",
   "metadata": {
    "tags": [],
    "pycharm": {
     "is_executing": true
    }
   },
   "outputs": [],
   "source": [
    "x"
   ]
  },
  {
   "cell_type": "code",
   "execution_count": null,
   "id": "fcf16b98-b1c4-43c3-9617-cfb883db1d07",
   "metadata": {
    "tags": [],
    "pycharm": {
     "is_executing": true
    }
   },
   "outputs": [],
   "source": [
    "arr"
   ]
  },
  {
   "cell_type": "code",
   "execution_count": null,
   "id": "673008c9-f8f9-4526-8f25-de433cbc65c4",
   "metadata": {
    "tags": [],
    "pycharm": {
     "is_executing": true
    }
   },
   "outputs": [],
   "source": [
    "arr2d = np.array([[5, 10, 15], [20, 25, 30], [35, 40, 45]])"
   ]
  },
  {
   "cell_type": "code",
   "execution_count": null,
   "id": "5fb1b33e-8a03-4094-bd9f-9554fc18dbda",
   "metadata": {
    "tags": [],
    "pycharm": {
     "is_executing": true
    }
   },
   "outputs": [],
   "source": [
    "arr2d"
   ]
  },
  {
   "cell_type": "code",
   "execution_count": null,
   "id": "9592400d-d792-4e9f-9b03-765c87cbcbca",
   "metadata": {
    "tags": [],
    "pycharm": {
     "is_executing": true
    }
   },
   "outputs": [],
   "source": [
    "arr2d[0, 0]"
   ]
  },
  {
   "cell_type": "code",
   "execution_count": null,
   "id": "59090013-0e70-4a79-99c7-d0af0750fb59",
   "metadata": {
    "tags": [],
    "pycharm": {
     "is_executing": true
    }
   },
   "outputs": [],
   "source": [
    "arr2d[2]"
   ]
  },
  {
   "cell_type": "code",
   "execution_count": null,
   "id": "f1211b01-195b-4b1f-a7f0-563c4cddc95e",
   "metadata": {
    "tags": [],
    "pycharm": {
     "is_executing": true
    }
   },
   "outputs": [],
   "source": [
    "arr2d[0][0]"
   ]
  },
  {
   "cell_type": "code",
   "execution_count": null,
   "id": "9e52be91-7125-45b2-a1f7-275b4aad739e",
   "metadata": {
    "tags": [],
    "pycharm": {
     "is_executing": true
    }
   },
   "outputs": [],
   "source": [
    "arr2d[0, 0] = 100"
   ]
  },
  {
   "cell_type": "code",
   "execution_count": 12,
   "id": "94fa0f29-c171-4d6b-a9df-4a76e1c8a89f",
   "metadata": {
    "tags": []
   },
   "outputs": [
    {
     "ename": "NameError",
     "evalue": "name 'arr2d' is not defined",
     "output_type": "error",
     "traceback": [
      "\u001B[0;31m---------------------------------------------------------------------------\u001B[0m",
      "\u001B[0;31mNameError\u001B[0m                                 Traceback (most recent call last)",
      "\u001B[0;32m/tmp/ipykernel_13728/511404529.py\u001B[0m in \u001B[0;36m<module>\u001B[0;34m\u001B[0m\n\u001B[0;32m----> 1\u001B[0;31m \u001B[0marr2d\u001B[0m\u001B[0;34m\u001B[0m\u001B[0;34m\u001B[0m\u001B[0m\n\u001B[0m",
      "\u001B[0;31mNameError\u001B[0m: name 'arr2d' is not defined"
     ]
    }
   ],
   "source": [
    "arr2d"
   ]
  },
  {
   "cell_type": "code",
   "execution_count": null,
   "id": "2d9b0cf3-5bc1-4813-a6d8-cb3af2b2e75f",
   "metadata": {
    "tags": []
   },
   "outputs": [],
   "source": [
    "arr2d[:,:]"
   ]
  },
  {
   "cell_type": "code",
   "execution_count": null,
   "id": "8f82a761-a586-4b0d-b06b-f66b3f1ca349",
   "metadata": {
    "tags": []
   },
   "outputs": [],
   "source": [
    "arr2d[:2,:2]"
   ]
  },
  {
   "cell_type": "code",
   "execution_count": null,
   "id": "0d931021-3fd7-4fe1-8452-7a579410dca6",
   "metadata": {
    "tags": []
   },
   "outputs": [],
   "source": [
    "arr2d[:2,1:]"
   ]
  },
  {
   "cell_type": "code",
   "execution_count": null,
   "id": "a68866cc-4e4a-412f-a9fe-57f79ec63f73",
   "metadata": {
    "tags": []
   },
   "outputs": [],
   "source": [
    "arr2d[1:,1:]"
   ]
  },
  {
   "cell_type": "code",
   "execution_count": null,
   "id": "6282823c-4171-4566-a7bf-be81b6da52df",
   "metadata": {
    "tags": []
   },
   "outputs": [],
   "source": [
    "arr2d[True]"
   ]
  },
  {
   "cell_type": "code",
   "execution_count": null,
   "id": "bdc38257-0374-418a-a179-241c0c1011d5",
   "metadata": {
    "tags": []
   },
   "outputs": [],
   "source": [
    "arr2d[arr2d > 10]"
   ]
  },
  {
   "cell_type": "code",
   "execution_count": null,
   "id": "eeb4409a-6f84-452f-94bd-79e73faae18d",
   "metadata": {
    "tags": []
   },
   "outputs": [],
   "source": [
    "arr2d = np.arange(50).reshape(5, 10)"
   ]
  },
  {
   "cell_type": "code",
   "execution_count": null,
   "id": "35b52d48-586c-48d5-ae26-c166a7cf2253",
   "metadata": {
    "tags": []
   },
   "outputs": [],
   "source": [
    "arr2d"
   ]
  },
  {
   "cell_type": "code",
   "execution_count": null,
   "id": "a56314ae-8820-4051-b709-bd4b9a3d6412",
   "metadata": {
    "tags": []
   },
   "outputs": [],
   "source": [
    "arr2d[1:3,3:5]"
   ]
  },
  {
   "cell_type": "code",
   "execution_count": null,
   "id": "156b8296-5983-497a-8f87-16f60ebb89dc",
   "metadata": {
    "tags": []
   },
   "outputs": [],
   "source": [
    "arr = np.arange(0, 11)"
   ]
  },
  {
   "cell_type": "code",
   "execution_count": null,
   "id": "0d7e5bcf-ac39-4205-bf89-2ee8e5eb14d1",
   "metadata": {
    "tags": []
   },
   "outputs": [],
   "source": [
    "arr"
   ]
  },
  {
   "cell_type": "code",
   "execution_count": null,
   "id": "f073f1ab-57fc-4ffb-bd61-0baf445ac1d0",
   "metadata": {
    "tags": []
   },
   "outputs": [],
   "source": [
    "arr + arr"
   ]
  },
  {
   "cell_type": "code",
   "execution_count": null,
   "id": "d3a2ed63-71f3-45e2-a448-a159d340dc56",
   "metadata": {
    "tags": []
   },
   "outputs": [],
   "source": [
    "# scalar - single number"
   ]
  },
  {
   "cell_type": "code",
   "execution_count": null,
   "id": "1e420f5b-e891-45c4-8181-f63b680841b8",
   "metadata": {
    "tags": []
   },
   "outputs": [],
   "source": [
    "arr + 2"
   ]
  },
  {
   "cell_type": "code",
   "execution_count": null,
   "id": "9ee0b752-fe5a-487f-a07a-c261dde6de4a",
   "metadata": {
    "tags": []
   },
   "outputs": [],
   "source": [
    "arr * 3"
   ]
  },
  {
   "cell_type": "code",
   "execution_count": null,
   "id": "4e7fb3a5-3faf-4625-99b4-9eb8115c8631",
   "metadata": {
    "tags": []
   },
   "outputs": [],
   "source": [
    "arr"
   ]
  },
  {
   "cell_type": "code",
   "execution_count": null,
   "id": "43270e59-1765-4625-8ea8-5a451f99b1a7",
   "metadata": {
    "tags": []
   },
   "outputs": [],
   "source": [
    "arr ** 3"
   ]
  },
  {
   "cell_type": "code",
   "execution_count": null,
   "id": "a441f6e8-7930-4e18-a7ad-a8410eee66f9",
   "metadata": {
    "tags": []
   },
   "outputs": [],
   "source": [
    "np.sqrt(arr)"
   ]
  },
  {
   "cell_type": "code",
   "execution_count": null,
   "id": "90b980a4-80a6-46f2-ae00-da6f9c69f29d",
   "metadata": {
    "tags": []
   },
   "outputs": [],
   "source": [
    "np.exp(arr)"
   ]
  },
  {
   "cell_type": "code",
   "execution_count": null,
   "id": "06e37d02-8c7f-44a1-8be2-9bcd2dff2326",
   "metadata": {
    "tags": []
   },
   "outputs": [],
   "source": [
    "np.sin(arr)"
   ]
  },
  {
   "cell_type": "code",
   "execution_count": null,
   "id": "6b96361b-f31f-4a1f-af27-74ed2ee083b3",
   "metadata": {
    "tags": []
   },
   "outputs": [],
   "source": [
    "np.tan(arr)"
   ]
  },
  {
   "cell_type": "code",
   "execution_count": null,
   "id": "f719fa16-5d7b-4ff1-a488-61a18025e1ba",
   "metadata": {},
   "outputs": [],
   "source": []
  }
 ],
 "metadata": {
  "kernelspec": {
   "display_name": "Python 3 (ipykernel)",
   "language": "python",
   "name": "python3"
  },
  "language_info": {
   "codemirror_mode": {
    "name": "ipython",
    "version": 3
   },
   "file_extension": ".py",
   "mimetype": "text/x-python",
   "name": "python",
   "nbconvert_exporter": "python",
   "pygments_lexer": "ipython3",
   "version": "3.10.6"
  }
 },
 "nbformat": 4,
 "nbformat_minor": 5
}
