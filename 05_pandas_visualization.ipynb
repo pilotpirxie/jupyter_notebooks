{
 "cells": [
  {
   "cell_type": "code",
   "execution_count": 1,
   "id": "1d392fa3-bfc3-4a09-a81e-9518fdd8d533",
   "metadata": {
    "tags": []
   },
   "outputs": [],
   "source": [
    "# Pandas for data visualization - built-ins"
   ]
  },
  {
   "cell_type": "code",
   "execution_count": null,
   "id": "52ba0c9b-d5a8-4303-bbd3-8cd256a35af6",
   "metadata": {},
   "outputs": [],
   "source": []
  }
 ],
 "metadata": {
  "kernelspec": {
   "display_name": "Python 3 (ipykernel)",
   "language": "python",
   "name": "python3"
  },
  "language_info": {
   "codemirror_mode": {
    "name": "ipython",
    "version": 3
   },
   "file_extension": ".py",
   "mimetype": "text/x-python",
   "name": "python",
   "nbconvert_exporter": "python",
   "pygments_lexer": "ipython3",
   "version": "3.10.6"
  }
 },
 "nbformat": 4,
 "nbformat_minor": 5
}
