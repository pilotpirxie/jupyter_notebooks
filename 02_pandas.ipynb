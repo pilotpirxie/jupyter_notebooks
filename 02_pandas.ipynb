{
 "cells": [
  {
   "cell_type": "code",
   "execution_count": 1,
   "id": "1fa71bd6-a771-4eca-ad2b-b8aaa99f4419",
   "metadata": {
    "tags": []
   },
   "outputs": [],
   "source": [
    "# Pandas - built on top of NumPy, fast analysis and data cleaning and preparation\n",
    "# has built-in visualization features"
   ]
  },
  {
   "cell_type": "code",
   "execution_count": null,
   "id": "a1cab1a2-24ee-4dc3-8ffd-11390c6f874a",
   "metadata": {},
   "outputs": [],
   "source": []
  }
 ],
 "metadata": {
  "kernelspec": {
   "display_name": "Python 3 (ipykernel)",
   "language": "python",
   "name": "python3"
  },
  "language_info": {
   "codemirror_mode": {
    "name": "ipython",
    "version": 3
   },
   "file_extension": ".py",
   "mimetype": "text/x-python",
   "name": "python",
   "nbconvert_exporter": "python",
   "pygments_lexer": "ipython3",
   "version": "3.10.6"
  }
 },
 "nbformat": 4,
 "nbformat_minor": 5
}
